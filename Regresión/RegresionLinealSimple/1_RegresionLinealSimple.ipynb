{
 "cells": [
  {
   "cell_type": "code",
   "execution_count": 2,
   "metadata": {
    "id": "wcmDZVQ8MqdX"
   },
   "outputs": [],
   "source": [
    "%matplotlib inline\n",
    "import matplotlib.pyplot as plt\n",
    "import numpy as np"
   ]
  },
  {
   "cell_type": "markdown",
   "metadata": {
    "id": "T1SShp9OMqda"
   },
   "source": [
    "# Aprendizaje Supervisado \n",
    "# Regresión Lineal Simple\n",
    "\n",
    "Autor: Mgtr. Ing. Mariano Martín Gualpa\n",
    "\n",
    "En este documento, revisaremos algunos conceptos relacionados con los modelos de regresión lineal."
   ]
  },
  {
   "cell_type": "markdown",
   "metadata": {
    "id": "j_1ayt9JMqde"
   },
   "source": [
    "Vamos a trabajar con algunos números aleatorios. Para ello es necesario establecer una semilla para facilitar la reproducibilidad. "
   ]
  },
  {
   "cell_type": "code",
   "execution_count": 3,
   "metadata": {
    "id": "LStElq-UMqdg"
   },
   "outputs": [],
   "source": [
    "np.random.seed(20)"
   ]
  },
  {
   "cell_type": "markdown",
   "metadata": {
    "id": "Kips3mHrMqdh"
   },
   "source": [
    "# 1. Generación del Conjunto de Datos Sintético"
   ]
  },
  {
   "cell_type": "markdown",
   "metadata": {
    "id": "oQZdqraxMqdj"
   },
   "source": [
    "Generaremos una distribución artificial para hacer algunas pruebas.\n",
    "Para ello, generaremos un conjunto X con sus correspondientes y, asociados por una función subyacente que las relaciona. Agregaremos un poco de ruido aleatorio para asemejarlo un poco a las condiciones normales en que podríamos encontrar la información de un set de datos real.\n"
   ]
  },
  {
   "cell_type": "code",
   "execution_count": 4,
   "metadata": {
    "id": "J_FFwi7rMqdl"
   },
   "outputs": [],
   "source": [
    "n_samples = 50"
   ]
  },
  {
   "cell_type": "markdown",
   "metadata": {
    "id": "Mc9oRFRcMqdm"
   },
   "source": [
    "Primero generamos un conjunto de valores aleatorio para x, con una distribución uniforme dentro del espacio [0, 50]."
   ]
  },
  {
   "cell_type": "code",
   "execution_count": 5,
   "metadata": {
    "colab": {
     "base_uri": "https://localhost:8080/"
    },
    "id": "4-MgAG3qMqdo",
    "outputId": "0e2d7184-9f08-41ad-ead6-3e006649793e"
   },
   "outputs": [
    {
     "name": "stdout",
     "output_type": "stream",
     "text": [
      "[29.40654005 44.8856864  44.57653647 40.79187387  1.79447928 34.58787909\n",
      " 18.9340471  25.92554727 32.89757328  9.69251089 13.6158201  35.93029668\n",
      " 39.15018047 42.51638199 38.7622447   1.83321532  5.83468676 37.56403497\n",
      " 11.96091081 12.7403007  42.88127656 47.48895131 28.0843429   8.93902599\n",
      " 38.51259666 24.61905198 31.56265328 41.97489615 23.05196981 24.89700367\n",
      " 33.97055588 32.53929571 13.43976194  3.36623335 38.57225692 24.04920661\n",
      " 16.46032039 25.53205281 13.18144143 15.5255775  31.34267189 27.87249053\n",
      " 15.92897798 19.74216104 12.89872929 29.11205616  8.08143552 29.90669099\n",
      " 41.29117886  7.81958593]\n"
     ]
    }
   ],
   "source": [
    "x = np.random.uniform(0, 50, n_samples)\n",
    "print(x)"
   ]
  },
  {
   "cell_type": "markdown",
   "metadata": {
    "id": "jUL7FLetMqds"
   },
   "source": [
    "Establecemos los parámetros de la función subyacente. Se trata de una función lineal simple: $$ y = b  + a x $$ <br>\n",
    "Sobre ella, agregaremos un poco de ruido guassiano. Los parámetros de la función serán:"
   ]
  },
  {
   "cell_type": "code",
   "execution_count": 6,
   "metadata": {
    "id": "86Es7LinMqdt"
   },
   "outputs": [],
   "source": [
    "b = 10\n",
    "a = 0.5\n",
    "mu = 0\n",
    "sigma = 4\n"
   ]
  },
  {
   "cell_type": "markdown",
   "metadata": {
    "id": "A5aEamZSMqdv"
   },
   "source": [
    "A partir de estos parámetros, generamos los valores correspondientes de la variable y asociados a cada elemento de x:"
   ]
  },
  {
   "cell_type": "code",
   "execution_count": 7,
   "metadata": {
    "colab": {
     "base_uri": "https://localhost:8080/"
    },
    "id": "zJy0FprTMqdw",
    "outputId": "bd69ea96-72fb-4ddd-e32d-3633552aee4e"
   },
   "outputs": [
    {
     "name": "stdout",
     "output_type": "stream",
     "text": [
      "[22.29403795 38.62175664 34.87640457 32.76880578 12.64933763 32.7250956\n",
      " 24.28506865 28.36995838 28.42253558  4.02879446 14.58716686 27.97118258\n",
      " 33.0034655  37.18276558 28.50247786 16.93020029  6.98780318 25.35736061\n",
      " 12.66568432 16.82634076 33.55155216 34.36782854 29.24788904 10.49030537\n",
      " 37.63495968 23.74724197 28.54533511 25.04456964 21.92113937 21.53521771\n",
      " 23.56617599 24.21706743 12.87101703  9.75331303 28.32824943 23.86358022\n",
      " 20.81588086 24.71563825 16.74349059 21.72073499 26.24582648 26.93743698\n",
      " 16.32620329 25.66070871 14.83122855 29.15172814 10.2850758  17.34748929\n",
      " 35.02732284 12.57561782]\n"
     ]
    }
   ],
   "source": [
    "y = b + a * x + np.random.normal(mu, sigma, size=len(x))\n",
    "print(y)"
   ]
  },
  {
   "cell_type": "code",
   "execution_count": 8,
   "metadata": {
    "colab": {
     "base_uri": "https://localhost:8080/",
     "height": 430
    },
    "id": "gqxgVhWfMqdx",
    "outputId": "296a9fa4-062e-4825-e9b3-a6c5868924ff"
   },
   "outputs": [
    {
     "data": {
      "image/png": "[encoded data removed]",
      "text/plain": [
       "<Figure size 640x480 with 1 Axes>"
      ]
     },
     "metadata": {},
     "output_type": "display_data"
    }
   ],
   "source": [
    "plt.plot(x, y, 'o');"
   ]
  },
  {
   "cell_type": "markdown",
   "metadata": {
    "id": "6njYS7y7Mqdx"
   },
   "source": [
    "Hemos generado así un dataset artificial, que nos servirá para poder entender mejor los conceptos relacionados a esta unidad. Podríamos suponer que este conjunto de datos representa a dos variables cuya relación desconocemos y de la que solo tenemos los valores disponibles."
   ]
  },
  {
   "cell_type": "markdown",
   "metadata": {
    "id": "ZaYFlKcSMqdy"
   },
   "source": [
    "# 2. Generar el Modelo Lineal a partir de una Regresión Lineal Simple\n",
    "El objetivo es encontrar a partir de los datos, una función h(x) que permita estimar el valor correspondiente de y. Existen muchos modelos que pueden ayudarnos, en este caso utilizaremos un modelo lineal: $$ \\widehat{y} = w_0 + w_1 * x$$\n",
    "\n",
    "En sklearn, disponemos de la clase `LinearRegression` (referencia a la [*API*](https://scikit-learn.org/stable/modules/generated/sklearn.linear_model.LinearRegression.html)), que implementa un tipo de regresión llamada Ordinary Least Squares (OLS). \n",
    "\n"
   ]
  },
  {
   "cell_type": "markdown",
   "metadata": {
    "id": "WONhFZaQMqdy"
   },
   "source": [
    "## 2.1. Preparación del dataset."
   ]
  },
  {
   "cell_type": "markdown",
   "metadata": {
    "id": "C5jGpgiXMqdz"
   },
   "source": [
    "Para realizar el entrenamiento, la API de sklearn requiere normalmente dos parámetros: \n",
    "\n",
    "el conjunto de valores de la variable objetivo ($\\mathbf{y}$) en la forma de un array de 1 dimensión.\n",
    "el conjunto de valores de las variables Xi, en la forma de un array de dos dimensiones es decir una matriz ($X$).\n",
    "\n",
    "Cada fila de ($X$) corresponde a un ejemplo y tendrá asociado un elemento correspondiente en el vector($\\mathbf{y}$). Cada columna, corresponderá a una variable, característica o feature.\n"
   ]
  },
  {
   "cell_type": "code",
   "execution_count": 9,
   "metadata": {
    "colab": {
     "base_uri": "https://localhost:8080/"
    },
    "id": "XYCxWv9KMqdz",
    "outputId": "6a0a11e0-633a-4bf1-fece-0ffdb0d6b786"
   },
   "outputs": [
    {
     "data": {
      "text/plain": [
       "(50,)"
      ]
     },
     "execution_count": 9,
     "metadata": {},
     "output_type": "execute_result"
    }
   ],
   "source": [
    "x.shape"
   ]
  },
  {
   "cell_type": "code",
   "execution_count": 10,
   "metadata": {
    "colab": {
     "base_uri": "https://localhost:8080/"
    },
    "id": "yYaUJ9N_Mqd0",
    "outputId": "4d06bb72-033e-4ed4-e3ec-a3d1fc8233b4"
   },
   "outputs": [
    {
     "data": {
      "text/plain": [
       "array([29.40654005, 44.8856864 , 44.57653647, 40.79187387,  1.79447928,\n",
       "       34.58787909, 18.9340471 , 25.92554727, 32.89757328,  9.69251089,\n",
       "       13.6158201 , 35.93029668, 39.15018047, 42.51638199, 38.7622447 ,\n",
       "        1.83321532,  5.83468676, 37.56403497, 11.96091081, 12.7403007 ,\n",
       "       42.88127656, 47.48895131, 28.0843429 ,  8.93902599, 38.51259666,\n",
       "       24.61905198, 31.56265328, 41.97489615, 23.05196981, 24.89700367,\n",
       "       33.97055588, 32.53929571, 13.43976194,  3.36623335, 38.57225692,\n",
       "       24.04920661, 16.46032039, 25.53205281, 13.18144143, 15.5255775 ,\n",
       "       31.34267189, 27.87249053, 15.92897798, 19.74216104, 12.89872929,\n",
       "       29.11205616,  8.08143552, 29.90669099, 41.29117886,  7.81958593])"
      ]
     },
     "execution_count": 10,
     "metadata": {},
     "output_type": "execute_result"
    }
   ],
   "source": [
    "x"
   ]
  },
  {
   "cell_type": "markdown",
   "metadata": {
    "id": "fzHbS62nMqd0"
   },
   "source": [
    "Puede observarse que ($\\mathbf{x}$) es un array de una dimensión (vector), por lo que deberíamos realizar la conversión a un array bi-dimensional (matriz), que en este caso tendrá una única columna y una fila por cada ejemplo. "
   ]
  },
  {
   "cell_type": "code",
   "execution_count": 11,
   "metadata": {
    "colab": {
     "base_uri": "https://localhost:8080/"
    },
    "id": "Wzp-L2DSMqd1",
    "outputId": "7ae5bb74-afd9-4ff3-b921-9c2c5a7dc5db"
   },
   "outputs": [
    {
     "data": {
      "text/plain": [
       "(50, 1)"
      ]
     },
     "execution_count": 11,
     "metadata": {},
     "output_type": "execute_result"
    }
   ],
   "source": [
    "X = x[:, np.newaxis]\n",
    "X.shape"
   ]
  },
  {
   "cell_type": "code",
   "execution_count": 12,
   "metadata": {
    "colab": {
     "base_uri": "https://localhost:8080/"
    },
    "id": "VMbX__KUMqd1",
    "outputId": "dea50429-66fb-45f5-d504-a217a545b9e9",
    "scrolled": true
   },
   "outputs": [
    {
     "data": {
      "text/plain": [
       "array([[29.40654005],\n",
       "       [44.8856864 ],\n",
       "       [44.57653647],\n",
       "       [40.79187387],\n",
       "       [ 1.79447928],\n",
       "       [34.58787909],\n",
       "       [18.9340471 ],\n",
       "       [25.92554727],\n",
       "       [32.89757328],\n",
       "       [ 9.69251089],\n",
       "       [13.6158201 ],\n",
       "       [35.93029668],\n",
       "       [39.15018047],\n",
       "       [42.51638199],\n",
       "       [38.7622447 ],\n",
       "       [ 1.83321532],\n",
       "       [ 5.83468676],\n",
       "       [37.56403497],\n",
       "       [11.96091081],\n",
       "       [12.7403007 ],\n",
       "       [42.88127656],\n",
       "       [47.48895131],\n",
       "       [28.0843429 ],\n",
       "       [ 8.93902599],\n",
       "       [38.51259666],\n",
       "       [24.61905198],\n",
       "       [31.56265328],\n",
       "       [41.97489615],\n",
       "       [23.05196981],\n",
       "       [24.89700367],\n",
       "       [33.97055588],\n",
       "       [32.53929571],\n",
       "       [13.43976194],\n",
       "       [ 3.36623335],\n",
       "       [38.57225692],\n",
       "       [24.04920661],\n",
       "       [16.46032039],\n",
       "       [25.53205281],\n",
       "       [13.18144143],\n",
       "       [15.5255775 ],\n",
       "       [31.34267189],\n",
       "       [27.87249053],\n",
       "       [15.92897798],\n",
       "       [19.74216104],\n",
       "       [12.89872929],\n",
       "       [29.11205616],\n",
       "       [ 8.08143552],\n",
       "       [29.90669099],\n",
       "       [41.29117886],\n",
       "       [ 7.81958593]])"
      ]
     },
     "execution_count": 12,
     "metadata": {},
     "output_type": "execute_result"
    }
   ],
   "source": [
    "X"
   ]
  },
  {
   "cell_type": "markdown",
   "metadata": {
    "id": "0eKQe6-NMqd2"
   },
   "source": [
    "## 2.2. Separación en conjunto de entrenamiento y test.\n",
    "Una práctica normal en la búsqueda del $h(x)$ mas adecuado es la de dividir el conjunto en al menos dos partes que serán utilizadas para objetivos diferentes:\n",
    "- Una parte será utilizada para ajustar el modelo (entrenamiento o train).\n",
    "- Otra parte diferente será utilizada para medir que tan bueno es el modelo obtenido (validación o test).\n",
    "Posteriormente volveremos sobre este concepto y profundizaremos sobre por que es tan importante.\n",
    "\n",
    "Por lo pronto, dividiremos el conjunto de datos en 80% y 20%. Para ello, utilizaremos la función `sklearn.model_selection`."
   ]
  },
  {
   "cell_type": "code",
   "execution_count": 13,
   "metadata": {
    "id": "eJjsNiLmMqd2"
   },
   "outputs": [],
   "source": [
    "from sklearn.model_selection import train_test_split\n",
    "\n",
    "X_train, X_test, y_train, y_test = train_test_split(X, y, test_size=0.20, random_state=311)"
   ]
  },
  {
   "cell_type": "code",
   "execution_count": 14,
   "metadata": {},
   "outputs": [
    {
     "data": {
      "text/plain": [
       "array([[38.57225692],\n",
       "       [ 7.81958593],\n",
       "       [31.56265328],\n",
       "       [38.51259666],\n",
       "       [40.79187387],\n",
       "       [ 3.36623335],\n",
       "       [ 5.83468676],\n",
       "       [ 8.08143552],\n",
       "       [ 9.69251089],\n",
       "       [42.51638199]])"
      ]
     },
     "execution_count": 14,
     "metadata": {},
     "output_type": "execute_result"
    }
   ],
   "source": [
    "X_test"
   ]
  },
  {
   "cell_type": "markdown",
   "metadata": {
    "id": "bJ2u9_RnMqd3"
   },
   "source": [
    "## 2.3. Ajuste del Modelo (Entrenamiento)\n",
    "Utilizaremos la clase `LinearRegression` de sklearn con **los datos de entrenamiento**  para ajustar los parametros del modelo:"
   ]
  },
  {
   "cell_type": "code",
   "execution_count": 15,
   "metadata": {
    "id": "gbseZKwjMqd3"
   },
   "outputs": [],
   "source": [
    "from sklearn.linear_model import LinearRegression"
   ]
  },
  {
   "cell_type": "code",
   "execution_count": 16,
   "metadata": {
    "colab": {
     "base_uri": "https://localhost:8080/",
     "height": 74
    },
    "id": "Rp0p5VgpMqd3",
    "outputId": "01d20920-9cf9-44d5-c029-d667430b6989"
   },
   "outputs": [
    {
     "data": {
      "text/html": [
       "<style>#sk-container-id-1 {color: black;background-color: white;}#sk-container-id-1 pre{padding: 0;}#sk-container-id-1 div.sk-toggleable {background-color: white;}#sk-container-id-1 label.sk-toggleable__label {cursor: pointer;display: block;width: 100%;margin-bottom: 0;padding: 0.3em;box-sizing: border-box;text-align: center;}#sk-container-id-1 label.sk-toggleable__label-arrow:before {content: \"▸\";float: left;margin-right: 0.25em;color: #696969;}#sk-container-id-1 label.sk-toggleable__label-arrow:hover:before {color: black;}#sk-container-id-1 div.sk-estimator:hover label.sk-toggleable__label-arrow:before {color: black;}#sk-container-id-1 div.sk-toggleable__content {max-height: 0;max-width: 0;overflow: hidden;text-align: left;background-color: #f0f8ff;}#sk-container-id-1 div.sk-toggleable__content pre {margin: 0.2em;color: black;border-radius: 0.25em;background-color: #f0f8ff;}#sk-container-id-1 input.sk-toggleable__control:checked~div.sk-toggleable__content {max-height: 200px;max-width: 100%;overflow: auto;}#sk-container-id-1 input.sk-toggleable__control:checked~label.sk-toggleable__label-arrow:before {content: \"▾\";}#sk-container-id-1 div.sk-estimator input.sk-toggleable__control:checked~label.sk-toggleable__label {background-color: #d4ebff;}#sk-container-id-1 div.sk-label input.sk-toggleable__control:checked~label.sk-toggleable__label {background-color: #d4ebff;}#sk-container-id-1 input.sk-hidden--visually {border: 0;clip: rect(1px 1px 1px 1px);clip: rect(1px, 1px, 1px, 1px);height: 1px;margin: -1px;overflow: hidden;padding: 0;position: absolute;width: 1px;}#sk-container-id-1 div.sk-estimator {font-family: monospace;background-color: #f0f8ff;border: 1px dotted black;border-radius: 0.25em;box-sizing: border-box;margin-bottom: 0.5em;}#sk-container-id-1 div.sk-estimator:hover {background-color: #d4ebff;}#sk-container-id-1 div.sk-parallel-item::after {content: \"\";width: 100%;border-bottom: 1px solid gray;flex-grow: 1;}#sk-container-id-1 div.sk-label:hover label.sk-toggleable__label {background-color: #d4ebff;}#sk-container-id-1 div.sk-serial::before {content: \"\";position: absolute;border-left: 1px solid gray;box-sizing: border-box;top: 0;bottom: 0;left: 50%;z-index: 0;}#sk-container-id-1 div.sk-serial {display: flex;flex-direction: column;align-items: center;background-color: white;padding-right: 0.2em;padding-left: 0.2em;position: relative;}#sk-container-id-1 div.sk-item {position: relative;z-index: 1;}#sk-container-id-1 div.sk-parallel {display: flex;align-items: stretch;justify-content: center;background-color: white;position: relative;}#sk-container-id-1 div.sk-item::before, #sk-container-id-1 div.sk-parallel-item::before {content: \"\";position: absolute;border-left: 1px solid gray;box-sizing: border-box;top: 0;bottom: 0;left: 50%;z-index: -1;}#sk-container-id-1 div.sk-parallel-item {display: flex;flex-direction: column;z-index: 1;position: relative;background-color: white;}#sk-container-id-1 div.sk-parallel-item:first-child::after {align-self: flex-end;width: 50%;}#sk-container-id-1 div.sk-parallel-item:last-child::after {align-self: flex-start;width: 50%;}#sk-container-id-1 div.sk-parallel-item:only-child::after {width: 0;}#sk-container-id-1 div.sk-dashed-wrapped {border: 1px dashed gray;margin: 0 0.4em 0.5em 0.4em;box-sizing: border-box;padding-bottom: 0.4em;background-color: white;}#sk-container-id-1 div.sk-label label {font-family: monospace;font-weight: bold;display: inline-block;line-height: 1.2em;}#sk-container-id-1 div.sk-label-container {text-align: center;}#sk-container-id-1 div.sk-container {/* jupyter's `normalize.less` sets `[hidden] { display: none; }` but bootstrap.min.css set `[hidden] { display: none !important; }` so we also need the `!important` here to be able to override the default hidden behavior on the sphinx rendered scikit-learn.org. See: https://github.com/scikit-learn/scikit-learn/issues/21755 */display: inline-block !important;position: relative;}#sk-container-id-1 div.sk-text-repr-fallback {display: none;}</style><div id=\"sk-container-id-1\" class=\"sk-top-container\"><div class=\"sk-text-repr-fallback\"><pre>LinearRegression()</pre><b>In a Jupyter environment, please rerun this cell to show the HTML representation or trust the notebook. <br />On GitHub, the HTML representation is unable to render, please try loading this page with nbviewer.org.</b></div><div class=\"sk-container\" hidden><div class=\"sk-item\"><div class=\"sk-estimator sk-toggleable\"><input class=\"sk-toggleable__control sk-hidden--visually\" id=\"sk-estimator-id-1\" type=\"checkbox\" checked><label for=\"sk-estimator-id-1\" class=\"sk-toggleable__label sk-toggleable__label-arrow\">LinearRegression</label><div class=\"sk-toggleable__content\"><pre>LinearRegression()</pre></div></div></div></div></div>"
      ],
      "text/plain": [
       "LinearRegression()"
      ]
     },
     "execution_count": 16,
     "metadata": {},
     "output_type": "execute_result"
    }
   ],
   "source": [
    "regressor = LinearRegression()\n",
    "regressor.fit(X_train, y_train)"
   ]
  },
  {
   "cell_type": "markdown",
   "metadata": {
    "id": "ab8yisZnMqd4"
   },
   "source": [
    "El objeto `regressor` contiene el modelo ya entrenado. Como el modelo es lineal, sus parámetros son: $$ \\widehat{y} = w_0 + w_1 x$$"
   ]
  },
  {
   "cell_type": "code",
   "execution_count": 17,
   "metadata": {
    "colab": {
     "base_uri": "https://localhost:8080/"
    },
    "id": "n9eHvoJtMqd4",
    "outputId": "a59698fc-3582-4dbb-f2b6-ea34dac05aa9"
   },
   "outputs": [
    {
     "name": "stdout",
     "output_type": "stream",
     "text": [
      "Vector de coeficientes de la función lineal:  [0.51347747]\n",
      "Ordenada en el origen (W0):  10.481150457879552\n"
     ]
    }
   ],
   "source": [
    "print('Vector de coeficientes de la función lineal: ', regressor.coef_)\n",
    "print('Ordenada en el origen (W0): ', regressor.intercept_)"
   ]
  },
  {
   "cell_type": "code",
   "execution_count": 18,
   "metadata": {
    "id": "Di_fGqY9Mqd4"
   },
   "outputs": [],
   "source": [
    "# Supongamos ahora que viene un nuevo valor y queremos utilizar nuestro modelo ya entrenado para predecir nuestro y.\n",
    "\n",
    "observacion = 17"
   ]
  },
  {
   "cell_type": "code",
   "execution_count": 19,
   "metadata": {
    "id": "6H870TFMMqd5"
   },
   "outputs": [],
   "source": [
    "y = 10.21 + 0.53 * observacion  #cambiar en base a los resultaddos del modelo "
   ]
  },
  {
   "cell_type": "code",
   "execution_count": 20,
   "metadata": {
    "colab": {
     "base_uri": "https://localhost:8080/"
    },
    "id": "oxB2fXJLMqd5",
    "outputId": "fa7974bf-c93a-482c-d281-4c85fb2121d9"
   },
   "outputs": [
    {
     "data": {
      "text/plain": [
       "19.22"
      ]
     },
     "execution_count": 20,
     "metadata": {},
     "output_type": "execute_result"
    }
   ],
   "source": [
    "y"
   ]
  },
  {
   "cell_type": "code",
   "execution_count": 21,
   "metadata": {
    "colab": {
     "base_uri": "https://localhost:8080/"
    },
    "id": "h7yty9S1Mqd6",
    "outputId": "919eab18-79a1-45a9-c290-21f7845b68e3"
   },
   "outputs": [
    {
     "data": {
      "text/plain": [
       "array([19.2102674])"
      ]
     },
     "execution_count": 21,
     "metadata": {},
     "output_type": "execute_result"
    }
   ],
   "source": [
    "regressor.predict([[17]]) "
   ]
  },
  {
   "cell_type": "markdown",
   "metadata": {
    "id": "rFQnlkCvMqd6"
   },
   "source": [
    "Vamos a graficar la función obtenida, junto con los puntos de entrenamiento:"
   ]
  },
  {
   "cell_type": "code",
   "execution_count": 22,
   "metadata": {
    "colab": {
     "base_uri": "https://localhost:8080/",
     "height": 430
    },
    "id": "xO56SbdQMqd7",
    "outputId": "2e687b30-81b4-494c-9bb8-63c02b545439"
   },
   "outputs": [
    {
     "data": {
      "image/png": "[encoded data removed]",
      "text/plain": [
       "<Figure size 640x480 with 1 Axes>"
      ]
     },
     "metadata": {},
     "output_type": "display_data"
    }
   ],
   "source": [
    "xlin = np.linspace(X.min(), X.max(), 200)\n",
    "ylin = regressor.coef_[0] * xlin + regressor.intercept_\n",
    "\n",
    "plt.plot(xlin, ylin)\n",
    "plt.plot(X_train, y_train, 'o');"
   ]
  },
  {
   "cell_type": "markdown",
   "metadata": {
    "id": "vIlmxmpaMqd8"
   },
   "source": [
    "Podemos calcular la predicción para cada valor de $x$ de entrenamiento."
   ]
  },
  {
   "cell_type": "code",
   "execution_count": 23,
   "metadata": {
    "id": "6CWozGEeMqd8"
   },
   "outputs": [],
   "source": [
    "y_pred_train = regressor.predict(X_train)"
   ]
  },
  {
   "cell_type": "code",
   "execution_count": 24,
   "metadata": {
    "colab": {
     "base_uri": "https://localhost:8080/",
     "height": 447
    },
    "id": "apsR-ll3Mqd8",
    "outputId": "4700605e-33ef-4ee6-ea58-96f4fa39380e"
   },
   "outputs": [
    {
     "data": {
      "text/plain": [
       "<matplotlib.legend.Legend at 0x1dd893576a0>"
      ]
     },
     "execution_count": 24,
     "metadata": {},
     "output_type": "execute_result"
    },
    {
     "data": {
      "image/png": "[encoded data removed]",
      "text/plain": [
       "<Figure size 640x480 with 1 Axes>"
      ]
     },
     "metadata": {},
     "output_type": "display_data"
    }
   ],
   "source": [
    "plt.plot(X_train, y_train, 'o', label=\"Datos\")\n",
    "plt.plot(X_train, y_pred_train, 'o', label=\"Predicciones\")\n",
    "plt.plot(xlin, ylin, label='Función obtenida')\n",
    "plt.legend(loc='best')"
   ]
  },
  {
   "cell_type": "markdown",
   "metadata": {
    "id": "lLl6ZNhiMqd9"
   },
   "source": [
    "## 2.4. Evaluación de Desempeño del Modelo"
   ]
  },
  {
   "cell_type": "markdown",
   "metadata": {
    "id": "_ShApd5fMqd9"
   },
   "source": [
    "### 2.4.1. Gráfico Q-Q (QQ-Plot)\n",
    "\n",
    " "
   ]
  },
  {
   "cell_type": "code",
   "execution_count": 25,
   "metadata": {
    "colab": {
     "base_uri": "https://localhost:8080/",
     "height": 472
    },
    "id": "CuUFpe41Mqd-",
    "outputId": "29c4536c-0128-4e1a-960f-205553605042"
   },
   "outputs": [
    {
     "data": {
      "image/png": "[encoded data removed]",
      "text/plain": [
       "<Figure size 640x480 with 1 Axes>"
      ]
     },
     "metadata": {},
     "output_type": "display_data"
    }
   ],
   "source": [
    "from scipy.stats import probplot\n",
    "\n",
    "residuals = y_pred_train - y_train\n",
    "_ = probplot(residuals, plot=plt)\n",
    "\n",
    "# qqPlot, evalua la normalidad de los datos (En este caso, de los residuos)"
   ]
  },
  {
   "cell_type": "markdown",
   "metadata": {
    "id": "MIsUCtoEMqd-"
   },
   "source": [
    "### 2.4.2. Gráfico de Residuos"
   ]
  },
  {
   "cell_type": "code",
   "execution_count": 26,
   "metadata": {
    "colab": {
     "base_uri": "https://localhost:8080/",
     "height": 471
    },
    "id": "qe9n_TAwMqd-",
    "outputId": "13117154-184b-46ca-c8a6-ece8d5856aab",
    "scrolled": true
   },
   "outputs": [
    {
     "data": {
      "text/plain": [
       "<matplotlib.legend.Legend at 0x1dd893f38e0>"
      ]
     },
     "execution_count": 26,
     "metadata": {},
     "output_type": "execute_result"
    },
    {
     "data": {
      "image/png": "[encoded data removed]",
      "text/plain": [
       "<Figure size 640x480 with 1 Axes>"
      ]
     },
     "metadata": {},
     "output_type": "display_data"
    }
   ],
   "source": [
    "plt.plot(y_pred_train, residuals, 'o', label=\"Datos de Entrenamiento\")\n",
    "plt.hlines(y = 0, xmin = min(y_pred_train), xmax = max(y_pred_train), color = 'black')\n",
    "plt.xlabel('y predicho')\n",
    "plt.ylabel('Residuo')\n",
    "plt.legend(loc='best')"
   ]
  },
  {
   "cell_type": "markdown",
   "metadata": {
    "id": "gySqhfpnMqd_"
   },
   "source": [
    "## 2.5. Prueba con Datos de Validación\n",
    "Ahora, probaremos que tan bien funciona con los datos de test."
   ]
  },
  {
   "cell_type": "code",
   "execution_count": 27,
   "metadata": {
    "id": "T5zLav_4Mqd_"
   },
   "outputs": [],
   "source": [
    "y_pred_test = regressor.predict(X_test)"
   ]
  },
  {
   "cell_type": "code",
   "execution_count": 28,
   "metadata": {
    "colab": {
     "base_uri": "https://localhost:8080/"
    },
    "id": "vdwvJEPCMqd_",
    "outputId": "37765673-6ad8-4c94-f356-670c6d1f258a"
   },
   "outputs": [
    {
     "data": {
      "text/plain": [
       "(array([30.28713525, 14.49633163, 26.68786173, 30.25650105, 31.42685854,\n",
       "        12.20963543, 13.47713064, 14.6307855 , 15.4580364 , 32.3123546 ]),\n",
       " array([28.32824943, 12.57561782, 28.54533511, 37.63495968, 32.76880578,\n",
       "         9.75331303,  6.98780318, 10.2850758 ,  4.02879446, 37.18276558]))"
      ]
     },
     "execution_count": 28,
     "metadata": {},
     "output_type": "execute_result"
    }
   ],
   "source": [
    "y_pred_test,y_test"
   ]
  },
  {
   "cell_type": "code",
   "execution_count": 29,
   "metadata": {
    "colab": {
     "base_uri": "https://localhost:8080/",
     "height": 430
    },
    "id": "mLsJd838MqeA",
    "outputId": "6a1ec7f3-585e-426f-bd53-0e5f1f26ff66"
   },
   "outputs": [
    {
     "data": {
      "image/png": "[encoded data removed]",
      "text/plain": [
       "<Figure size 640x480 with 1 Axes>"
      ]
     },
     "metadata": {},
     "output_type": "display_data"
    }
   ],
   "source": [
    "plt.plot(X_test, y_test, 'o', label=\"datos\")\n",
    "plt.plot(X_test, y_pred_test, 'o', label=\"predicción\")\n",
    "plt.plot(xlin, ylin, label='Función obtenida')\n",
    "plt.legend(loc='best');"
   ]
  },
  {
   "cell_type": "markdown",
   "metadata": {
    "id": "teXux9KxMqeA"
   },
   "source": [
    "### 2.4.3. Métricas\n",
    "\n",
    "Existen diferentes métricas para evaluar el desempeño del modelo y las estimaciones que pueden obtenerse. \n",
    "En regresión, las dos principales son el coeficiente de determinación $R^2$ y el Error Cuadrático Medio (Mean Squared Error MSE).\n",
    "- Error Cuadrático Medio (MSE): \n",
    "$$MSE = \\frac{1}{n} \\sum_{i=1}^{n} (\\widehat{y}^{(i)} - \\text{y}^{(i)})^2$$\n",
    "- Coeficiente de Determinación ($R^2$):\n",
    "$$R^2 = 1 - \\frac{SSE}{SST} = 1 - \\frac{\\frac{1}{n} \\sum_{i=1}^{n} (\\widehat{y}^{(i)} - \\text{y}^{(i)})^2}{\\frac{1}{n} \\sum_{i=1}^{n} (\\text{y}^{(i)} - \\mu_y)^2} = 1 - \\frac{MSE}{Var(y)}$$\n",
    "\n",
    "SSE: Sum of squared errors\n",
    "\n",
    "SST: Total sum of squared.\n"
   ]
  },
  {
   "cell_type": "code",
   "execution_count": 30,
   "metadata": {
    "colab": {
     "base_uri": "https://localhost:8080/"
    },
    "id": "5dw8_Q6dMqeB",
    "outputId": "e560343d-a884-46e7-b0de-1eed57629a62"
   },
   "outputs": [
    {
     "data": {
      "text/plain": [
       "0.81780575794638"
      ]
     },
     "execution_count": 30,
     "metadata": {},
     "output_type": "execute_result"
    }
   ],
   "source": [
    "regressor.score(X_test, y_test) # Recordemos:cuanto más cercano a uno, mejor"
   ]
  },
  {
   "cell_type": "code",
   "execution_count": 31,
   "metadata": {
    "id": "rQGN8JfzMqeB"
   },
   "outputs": [],
   "source": [
    "from sklearn import metrics"
   ]
  },
  {
   "cell_type": "code",
   "execution_count": 32,
   "metadata": {
    "colab": {
     "base_uri": "https://localhost:8080/"
    },
    "id": "1a2xapvcMqeC",
    "outputId": "5264d63c-b32f-4f6f-92f9-23e7b7c4989b"
   },
   "outputs": [
    {
     "name": "stdout",
     "output_type": "stream",
     "text": [
      "Error Cuadrático Medio (Mean Squared Error): 28.85976148\n",
      "Coeficiente de Determinación (Coefficient of Determination): 0.81780576\n"
     ]
    }
   ],
   "source": [
    "from sklearn.metrics import mean_squared_error, r2_score\n",
    "\n",
    "print('Error Cuadrático Medio (Mean Squared Error): %.8f' % mean_squared_error(y_test, y_pred_test))\n",
    "print('Coeficiente de Determinación (Coefficient of Determination): %.8f' % r2_score(y_test, y_pred_test))"
   ]
  },
  {
   "cell_type": "code",
   "execution_count": null,
   "metadata": {},
   "outputs": [],
   "source": []
  }
 ],
 "metadata": {
  "colab": {
   "provenance": []
  },
  "kernelspec": {
   "display_name": "Python 3 (ipykernel)",
   "language": "python",
   "name": "python3"
  },
  "language_info": {
   "codemirror_mode": {
    "name": "ipython",
    "version": 3
   },
   "file_extension": ".py",
   "mimetype": "text/x-python",
   "name": "python",
   "nbconvert_exporter": "python",
   "pygments_lexer": "ipython3",
   "version": "3.10.9"
  }
 },
 "nbformat": 4,
 "nbformat_minor": 1
}
