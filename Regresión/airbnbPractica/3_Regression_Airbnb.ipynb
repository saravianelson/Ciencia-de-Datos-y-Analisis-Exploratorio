{
 "cells": [
  {
   "cell_type": "code",
   "execution_count": 119,
   "id": "current-observation",
   "metadata": {
    "id": "current-observation"
   },
   "outputs": [],
   "source": [
    "import pandas as pd # usado para trabajar dataframes\n",
    "import numpy as np # usado para trabajar arrays\n",
    "\n",
    "import matplotlib.pyplot as plt # usado para graficos\n",
    "import seaborn as sns # idem graficos (menos posibilidades de configuración pero gráficas más presentables)\n",
    "\n",
    "from sklearn.model_selection import train_test_split # permite dividir el dataset\n",
    "from sklearn.metrics import mean_squared_error, r2_score # permite obtener métricas\n",
    "from sklearn.preprocessing import OneHotEncoder # para trabajar con variables categóricas\n",
    "# esta es una implementación de Scikit-Learn, mientras que una implementación similar de pandas es pd.get_dummies\n",
    "\n",
    "from scipy.stats import probplot # calcula cuantiles para una gráfica de probabilidad"
   ]
  },
  {
   "cell_type": "markdown",
   "id": "polyphonic-rating",
   "metadata": {
    "id": "polyphonic-rating"
   },
   "source": [
    "# Regresiones- Airbnb Dataset"
   ]
  },
  {
   "cell_type": "markdown",
   "id": "voluntary-japan",
   "metadata": {
    "id": "voluntary-japan"
   },
   "source": [
    "### Leer los datos"
   ]
  },
  {
   "cell_type": "markdown",
   "id": "balanced-daniel",
   "metadata": {
    "id": "balanced-daniel"
   },
   "source": [
    "\n",
    "Cada registro describe un alojamiento publicado en AIRBNB en Washington:\n",
    "\n",
    "- price: precio por noche\n",
    "- latitude: latitud donde esta ubicada el alojamiento\n",
    "- longitude: longitud donde esta ubicada el alojamiento\n",
    "- property_type: tipo de propiedad ['House', 'Apartment', 'other', 'Bungalow', 'Cabin']\n",
    "- room_type: tipo de habitacion ['Entire home/apt', 'Private room', 'Shared room']\n",
    "- accommodates: cantidad de personas que admite\n",
    "- bathrooms: cantidad de baños\n",
    "- bedrooms: cantidad de habitaciones\n",
    "- beds: cantidad de camas\n",
    "- minimum_nights: minimo de noches\n",
    "- number_of_reviews: cantidad de reseñas\n",
    "- review_scores_rating: puntuacion general\n",
    "- review_scores_cleanliness: puntuacion por limpieza\n",
    "- review_scores_checkin: puntuacion de checkin\n",
    "- review_scores_communication: puntuacion de comunicacion\n",
    "- review_scores_location: puntuacion de la ubicacion\n",
    "- cancellation_policy: politica de cancelacion"
   ]
  },
  {
   "cell_type": "markdown",
   "id": "0f00af99",
   "metadata": {
    "id": "0f00af99"
   },
   "source": [
    "### Lectura de archivo"
   ]
  },
  {
   "cell_type": "code",
   "execution_count": null,
   "id": "gJLKDhd8OVc1",
   "metadata": {
    "id": "gJLKDhd8OVc1"
   },
   "outputs": [],
   "source": []
  },
  {
   "cell_type": "markdown",
   "id": "binding-football",
   "metadata": {
    "id": "binding-football"
   },
   "source": [
    "### Analisis Exploratorio"
   ]
  },
  {
   "cell_type": "markdown",
   "id": "korean-flood",
   "metadata": {
    "id": "korean-flood"
   },
   "source": [
    "#### Target \n",
    "\n",
    "Análisis de target de los datos que deseamos predecir"
   ]
  },
  {
   "cell_type": "code",
   "execution_count": null,
   "id": "d2e27aa6",
   "metadata": {
    "id": "d2e27aa6"
   },
   "outputs": [],
   "source": []
  },
  {
   "cell_type": "markdown",
   "id": "standing-mainstream",
   "metadata": {
    "id": "standing-mainstream"
   },
   "source": [
    "#### Datos Faltantes\n",
    "\n",
    "Análisis de valores nulos en los atributos del dataset"
   ]
  },
  {
   "cell_type": "code",
   "execution_count": null,
   "id": "MxxHZlKEOd6v",
   "metadata": {
    "id": "MxxHZlKEOd6v"
   },
   "outputs": [],
   "source": []
  },
  {
   "cell_type": "markdown",
   "id": "behind-treaty",
   "metadata": {
    "id": "behind-treaty"
   },
   "source": [
    "Imputar la media en los valores nulos"
   ]
  },
  {
   "cell_type": "code",
   "execution_count": null,
   "id": "74YESOnsOpFb",
   "metadata": {
    "id": "74YESOnsOpFb"
   },
   "outputs": [],
   "source": []
  },
  {
   "cell_type": "markdown",
   "id": "continuous-headquarters",
   "metadata": {
    "id": "continuous-headquarters"
   },
   "source": [
    "Validar nuevamente que ya no existan valores nulos"
   ]
  },
  {
   "cell_type": "code",
   "execution_count": null,
   "id": "yEf39urGOn5u",
   "metadata": {
    "id": "yEf39urGOn5u"
   },
   "outputs": [],
   "source": []
  },
  {
   "cell_type": "markdown",
   "id": "minimal-powder",
   "metadata": {
    "id": "minimal-powder"
   },
   "source": [
    "#### Variables Categoricas\n",
    "\n",
    "Transformar mis variables categoricas en numericas"
   ]
  },
  {
   "cell_type": "code",
   "execution_count": null,
   "id": "Wbv3fG4PPaEA",
   "metadata": {
    "id": "Wbv3fG4PPaEA"
   },
   "outputs": [],
   "source": []
  },
  {
   "cell_type": "markdown",
   "id": "bronze-monkey",
   "metadata": {
    "id": "bronze-monkey"
   },
   "source": [
    "- Property type"
   ]
  },
  {
   "cell_type": "code",
   "execution_count": null,
   "id": "eI_OCheSPdiE",
   "metadata": {
    "id": "eI_OCheSPdiE"
   },
   "outputs": [],
   "source": []
  },
  {
   "cell_type": "markdown",
   "id": "afraid-envelope",
   "metadata": {
    "id": "afraid-envelope"
   },
   "source": [
    "¿Es necesario agregar valores en otra columna?"
   ]
  },
  {
   "cell_type": "markdown",
   "id": "later-theme",
   "metadata": {
    "id": "later-theme"
   },
   "source": [
    "Transformar a columnas con 0 - 1"
   ]
  },
  {
   "cell_type": "code",
   "execution_count": null,
   "id": "rMFFzT5KPqSe",
   "metadata": {
    "id": "rMFFzT5KPqSe"
   },
   "outputs": [],
   "source": []
  },
  {
   "cell_type": "markdown",
   "id": "global-procurement",
   "metadata": {
    "id": "global-procurement"
   },
   "source": [
    "- Cancellation policy"
   ]
  },
  {
   "cell_type": "code",
   "execution_count": null,
   "id": "iTlambTcPo5Q",
   "metadata": {
    "id": "iTlambTcPo5Q"
   },
   "outputs": [],
   "source": []
  },
  {
   "cell_type": "markdown",
   "id": "independent-smith",
   "metadata": {
    "id": "independent-smith"
   },
   "source": [
    "Transformar a columnas con 0 - 1"
   ]
  },
  {
   "cell_type": "code",
   "execution_count": null,
   "id": "yPdelOPFP7wT",
   "metadata": {
    "id": "yPdelOPFP7wT"
   },
   "outputs": [],
   "source": []
  },
  {
   "cell_type": "markdown",
   "id": "bearing-chamber",
   "metadata": {
    "id": "bearing-chamber"
   },
   "source": [
    "- Room type"
   ]
  },
  {
   "cell_type": "code",
   "execution_count": null,
   "id": "iCnyi-V3QDsI",
   "metadata": {
    "id": "iCnyi-V3QDsI"
   },
   "outputs": [],
   "source": []
  },
  {
   "cell_type": "markdown",
   "id": "molecular-december",
   "metadata": {
    "id": "molecular-december"
   },
   "source": [
    "- Resultado final"
   ]
  },
  {
   "cell_type": "code",
   "execution_count": null,
   "id": "nLxoZVMYQIFQ",
   "metadata": {
    "id": "nLxoZVMYQIFQ"
   },
   "outputs": [],
   "source": []
  },
  {
   "cell_type": "markdown",
   "id": "reserved-optimization",
   "metadata": {
    "id": "reserved-optimization"
   },
   "source": [
    "Eliminar columnas innecesarias"
   ]
  },
  {
   "cell_type": "code",
   "execution_count": null,
   "id": "1ilgBOsWQMtc",
   "metadata": {
    "id": "1ilgBOsWQMtc"
   },
   "outputs": [],
   "source": []
  },
  {
   "cell_type": "markdown",
   "id": "subjective-federation",
   "metadata": {
    "id": "subjective-federation"
   },
   "source": [
    "Validar que todos nuestras columnas sean de tipos numéricos"
   ]
  },
  {
   "cell_type": "code",
   "execution_count": null,
   "id": "Yhcec6JbQP_C",
   "metadata": {
    "id": "Yhcec6JbQP_C"
   },
   "outputs": [],
   "source": []
  },
  {
   "cell_type": "markdown",
   "id": "undefined-antenna",
   "metadata": {
    "id": "undefined-antenna"
   },
   "source": [
    "#### Outliers\n",
    "\n",
    "Identificar outliers en los datos\n",
    "\n",
    "Utilizaremos una técnica denominada IQR Score para remover outliers (valores extremos).\n",
    "Dicha regla establece que los valores fuera del rango (Q1 - 1.5 IQR) y (Q3 + 1.5 IQR) se puede considerar un outlier y puede ser removido\n",
    "\n",
    "- Q1= es el valor en el cual o por debajo del cual queda aproximadamente un cuarto (25%) de todos los valores de la sucesión (ordenada)\n",
    "- Q3 = es el valor por debajo del cual quedan las tres cuartas partes (75%) de los datos.\n",
    "- IQR= rango intercuartil Q3- Q1 "
   ]
  },
  {
   "cell_type": "code",
   "execution_count": null,
   "id": "7NaMvYZwQe93",
   "metadata": {
    "id": "7NaMvYZwQe93"
   },
   "outputs": [],
   "source": []
  },
  {
   "cell_type": "markdown",
   "id": "determined-subcommittee",
   "metadata": {
    "id": "determined-subcommittee"
   },
   "source": [
    "Crear dataset 2 con outliers removidos"
   ]
  },
  {
   "cell_type": "code",
   "execution_count": null,
   "id": "X7d4pgHQQhdu",
   "metadata": {
    "id": "X7d4pgHQQhdu"
   },
   "outputs": [],
   "source": []
  },
  {
   "cell_type": "markdown",
   "id": "celtic-coaching",
   "metadata": {
    "id": "celtic-coaching"
   },
   "source": [
    "#### Correlacion"
   ]
  },
  {
   "cell_type": "markdown",
   "id": "vietnamese-adjustment",
   "metadata": {
    "id": "vietnamese-adjustment"
   },
   "source": [
    "Analizar variables de interes y graficar pairplot"
   ]
  },
  {
   "cell_type": "code",
   "execution_count": null,
   "id": "Q3JbseWXQpvX",
   "metadata": {
    "id": "Q3JbseWXQpvX"
   },
   "outputs": [],
   "source": []
  },
  {
   "cell_type": "markdown",
   "id": "regulated-jordan",
   "metadata": {
    "id": "regulated-jordan"
   },
   "source": [
    "### Seleccionar atributos para el modelo"
   ]
  },
  {
   "cell_type": "markdown",
   "id": "induced-audio",
   "metadata": {
    "id": "induced-audio"
   },
   "source": [
    "Seleccionar los atributos para entrenar el modelo "
   ]
  },
  {
   "cell_type": "code",
   "execution_count": null,
   "id": "4a9_P6yOQvd7",
   "metadata": {
    "id": "4a9_P6yOQvd7"
   },
   "outputs": [],
   "source": []
  },
  {
   "cell_type": "markdown",
   "id": "impressed-belize",
   "metadata": {
    "id": "impressed-belize"
   },
   "source": [
    "### Split Dataset "
   ]
  },
  {
   "cell_type": "markdown",
   "id": "respective-agent",
   "metadata": {
    "id": "respective-agent"
   },
   "source": [
    "Separar los datos en conjunto de entrenamiento y de testing"
   ]
  },
  {
   "cell_type": "code",
   "execution_count": null,
   "id": "8lDJwmJIQ1HI",
   "metadata": {
    "id": "8lDJwmJIQ1HI"
   },
   "outputs": [],
   "source": []
  },
  {
   "cell_type": "markdown",
   "id": "alpine-immunology",
   "metadata": {
    "id": "alpine-immunology"
   },
   "source": [
    "### Modelo de Regresion linear multiple"
   ]
  },
  {
   "cell_type": "markdown",
   "id": "pleasant-reliance",
   "metadata": {
    "id": "pleasant-reliance"
   },
   "source": [
    "El modelo que utilizaremos será de regresión lineal múltiple, tendrá la forma:\n",
    "\n",
    "$$\\widehat{y} = w_0 + w_1  X $$\n",
    "\n"
   ]
  },
  {
   "cell_type": "code",
   "execution_count": null,
   "id": "y59nDstxQ-CH",
   "metadata": {
    "id": "y59nDstxQ-CH"
   },
   "outputs": [],
   "source": []
  },
  {
   "cell_type": "markdown",
   "id": "warming-finger",
   "metadata": {
    "id": "warming-finger"
   },
   "source": [
    "#### Valor de los coeficientes"
   ]
  },
  {
   "cell_type": "code",
   "execution_count": null,
   "id": "7db02311",
   "metadata": {
    "id": "7db02311"
   },
   "outputs": [],
   "source": [
    "print('Coeficientes de la función lineal: ', np.round_(regressor.coef_, decimals = 3))\n",
    "print('Ordenada en el origen (W0): ', regressor.intercept_)"
   ]
  },
  {
   "cell_type": "markdown",
   "id": "sustainable-disclosure",
   "metadata": {
    "id": "sustainable-disclosure"
   },
   "source": [
    "#### Métricas"
   ]
  },
  {
   "cell_type": "markdown",
   "id": "indirect-russia",
   "metadata": {
    "id": "indirect-russia"
   },
   "source": [
    "Performance del modelo en el set de entrenamiento"
   ]
  },
  {
   "cell_type": "code",
   "execution_count": null,
   "id": "55c8aec3",
   "metadata": {
    "id": "55c8aec3"
   },
   "outputs": [],
   "source": [
    "print('Error Cuadrático Medio (Mean Squared Error): %.3f' % mean_squared_error(y_train, y_pred))\n",
    "print('Raíz del Error Cuadrático Medio (Root Mean Squared Error): %.3f' % np.sqrt(mean_squared_error(y_train, y_pred)))\n",
    "print('Coeficiente de Determinación (Coefficient of Determination): %.3f' % r2_score(y_train, y_pred))"
   ]
  },
  {
   "cell_type": "markdown",
   "id": "anticipated-wagner",
   "metadata": {
    "id": "anticipated-wagner"
   },
   "source": [
    "Performance del modelo en el set de test"
   ]
  },
  {
   "cell_type": "code",
   "execution_count": null,
   "id": "immune-cherry",
   "metadata": {
    "id": "immune-cherry"
   },
   "outputs": [],
   "source": [
    "  print('Error Cuadrático Medio (Mean Squared Error): %.3f' % mean_squared_error(y_test, y_pred_test))\n",
    "  print('Raíz del Error Cuadrático Medio (Root Mean Squared Error): %.3f' % np.sqrt(mean_squared_error(y_test, y_pred_test)))\n",
    "  print('Coeficiente de Determinación (Coefficient of Determination): %.3f' % r2_score(y_test, y_pred_test))"
   ]
  },
  {
   "cell_type": "markdown",
   "id": "pointed-campus",
   "metadata": {
    "id": "pointed-campus"
   },
   "source": [
    "#### Grafico de residuos"
   ]
  },
  {
   "cell_type": "code",
   "execution_count": null,
   "id": "regulation-transition",
   "metadata": {
    "id": "regulation-transition"
   },
   "outputs": [],
   "source": [
    "#calcular los residuos\n",
    "residues = y_test - y_pred_test\n",
    "\n",
    "#Graficar los residuos. En el eje 'x' tenemos el precio predicho y en el eje 'y' los residuos\n",
    "plt.plot(y_pred_test, residues, '.', label = 'Datos de Testing')\n",
    "#Graficar una linea horizontal en el valor cero del eje y. \n",
    "plt.hlines(y=0, xmin=min(y_pred_test), xmax=max(y_pred_test), color = 'red')\n",
    "\n",
    "#Agregar titulos a los ejes y leyenda \n",
    "plt.xlabel('y predicho')\n",
    "plt.ylabel('Residuo')\n",
    "plt.legend(loc='best')"
   ]
  },
  {
   "cell_type": "markdown",
   "id": "sublime-method",
   "metadata": {
    "id": "sublime-method"
   },
   "source": [
    "### Modelo polinomial"
   ]
  },
  {
   "cell_type": "markdown",
   "id": "scheduled-hostel",
   "metadata": {
    "id": "scheduled-hostel"
   },
   "source": [
    "El primer paso es preprocesar las entradas, generando un nuevo set de datos transformados en el cual se agregan las columnas con los atributos elevados al grado del polinomio elegido."
   ]
  },
  {
   "cell_type": "code",
   "execution_count": null,
   "id": "GtJP2WPpRU7P",
   "metadata": {
    "id": "GtJP2WPpRU7P"
   },
   "outputs": [],
   "source": [
    "# Importar libreria que me transforma las entradas"
   ]
  },
  {
   "cell_type": "code",
   "execution_count": null,
   "id": "g4f742iyRaDn",
   "metadata": {
    "id": "g4f742iyRaDn"
   },
   "outputs": [],
   "source": [
    "# Crear el objeto encargado de transformarme las entradas y elegir el grado del polinomio"
   ]
  },
  {
   "cell_type": "code",
   "execution_count": null,
   "id": "iNQInkdQRcml",
   "metadata": {
    "id": "iNQInkdQRcml"
   },
   "outputs": [],
   "source": [
    "# Transformar"
   ]
  },
  {
   "cell_type": "code",
   "execution_count": null,
   "id": "LYSK4uCARga_",
   "metadata": {
    "id": "LYSK4uCARga_"
   },
   "outputs": [],
   "source": [
    "# Visualizar las entradas transformadas"
   ]
  },
  {
   "cell_type": "code",
   "execution_count": 136,
   "id": "pregnant-company",
   "metadata": {
    "id": "pregnant-company"
   },
   "outputs": [],
   "source": [
    "# Crear regresor 2"
   ]
  },
  {
   "cell_type": "code",
   "execution_count": null,
   "id": "bulgarian-circle",
   "metadata": {
    "id": "bulgarian-circle"
   },
   "outputs": [],
   "source": [
    "# Entrenar el modelo con los datos transformados de X_train"
   ]
  },
  {
   "cell_type": "code",
   "execution_count": 140,
   "id": "fitting-tutorial",
   "metadata": {
    "id": "fitting-tutorial"
   },
   "outputs": [],
   "source": [
    "# Predecir con los datos de entrenamiento"
   ]
  },
  {
   "cell_type": "code",
   "execution_count": 141,
   "id": "working-mexican",
   "metadata": {
    "id": "working-mexican"
   },
   "outputs": [],
   "source": [
    "# Predecir con los datos de test. Tener en cuenta que primero debo transformar las entradas"
   ]
  },
  {
   "cell_type": "markdown",
   "id": "alpine-finder",
   "metadata": {
    "id": "alpine-finder"
   },
   "source": [
    "#### Coeficientes"
   ]
  },
  {
   "cell_type": "code",
   "execution_count": null,
   "id": "f7d2710e",
   "metadata": {
    "id": "f7d2710e"
   },
   "outputs": [],
   "source": [
    "print('Coeficientes de la función lineal: ', np.round_(regressor2.coef_, decimals = 3))\n",
    "print('Ordenada en el origen (W0): ', regressor2.intercept_)"
   ]
  },
  {
   "cell_type": "markdown",
   "id": "incoming-warren",
   "metadata": {
    "id": "incoming-warren"
   },
   "source": [
    "#### Métricas"
   ]
  },
  {
   "cell_type": "markdown",
   "id": "studied-biography",
   "metadata": {
    "id": "studied-biography"
   },
   "source": [
    "Performance del modelo en el set de entrenamiento"
   ]
  },
  {
   "cell_type": "code",
   "execution_count": null,
   "id": "4303f73e",
   "metadata": {
    "id": "4303f73e"
   },
   "outputs": [],
   "source": [
    "print('Error Cuadrático Medio (Mean Squared Error): %.3f' % mean_squared_error(y_train, y_pred_r2))\n",
    "print('Raíz del Error Cuadrático Medio (Root Mean Squared Error): %.3f' % np.sqrt(mean_squared_error(y_train, y_pred_r2)))\n",
    "print('Coeficiente de Determinación (Coefficient of Determination): %.3f' % r2_score(y_train, y_pred_r2))"
   ]
  },
  {
   "cell_type": "markdown",
   "id": "revised-guarantee",
   "metadata": {
    "id": "revised-guarantee"
   },
   "source": [
    "Performance del modelo en el set de test"
   ]
  },
  {
   "cell_type": "code",
   "execution_count": null,
   "id": "87dfae70",
   "metadata": {
    "id": "87dfae70"
   },
   "outputs": [],
   "source": [
    "print('Error Cuadrático Medio (Mean Squared Error): %.3f' % mean_squared_error(y_test, y_pred_test_r2))\n",
    "print('Raíz del Error Cuadrático Medio (Root Mean Squared Error): %.3f' % np.sqrt(mean_squared_error(y_test, y_pred_test_r2)))\n",
    "print('Coeficiente de Determinación (Coefficient of Determination): %.3f' % r2_score(y_test, y_pred_test_r2))"
   ]
  },
  {
   "cell_type": "markdown",
   "id": "light-terrain",
   "metadata": {
    "id": "light-terrain"
   },
   "source": [
    "#### Gráfico de residuos"
   ]
  },
  {
   "cell_type": "code",
   "execution_count": null,
   "id": "13fb9845",
   "metadata": {
    "id": "13fb9845"
   },
   "outputs": [],
   "source": [
    "#calcular los residuos\n",
    "residues = y_test - y_pred_test_r2\n",
    "\n",
    "#Graficar los residuos. En el eje 'x' tenemos el precio predicho y en el eje 'y' los residuos\n",
    "plt.plot(y_pred_test_r2, residues, '.', label = 'Datos de Testing')\n",
    "#Graficar una linea horizontal en el valor cero del eje y. \n",
    "plt.hlines(y=0, xmin=min(y_pred_test_r2), xmax=max(y_pred_test_r2), color = 'red')\n",
    "\n",
    "#Agregar titulos a los ejes y leyenda \n",
    "plt.xlabel('y predicho')\n",
    "plt.ylabel('Residuo')\n",
    "plt.legend(loc='best')"
   ]
  }
 ],
 "metadata": {
  "colab": {
   "provenance": []
  },
  "kernelspec": {
   "display_name": "Python 3 (ipykernel)",
   "language": "python",
   "name": "python3"
  },
  "language_info": {
   "codemirror_mode": {
    "name": "ipython",
    "version": 3
   },
   "file_extension": ".py",
   "mimetype": "text/x-python",
   "name": "python",
   "nbconvert_exporter": "python",
   "pygments_lexer": "ipython3",
   "version": "3.10.9"
  }
 },
 "nbformat": 4,
 "nbformat_minor": 5
}
